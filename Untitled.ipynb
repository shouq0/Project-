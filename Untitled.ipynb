{
 "cells": [
  {
   "cell_type": "code",
   "execution_count": 1,
   "id": "ff987015",
   "metadata": {},
   "outputs": [],
   "source": [
    "import pandas as pd\n",
    "import numpy as np"
   ]
  },
  {
   "cell_type": "code",
   "execution_count": 2,
   "id": "c674cf21",
   "metadata": {},
   "outputs": [],
   "source": [
    "df = pd.read_csv('World Happiness 2015.csv')"
   ]
  },
  {
   "cell_type": "code",
   "execution_count": 3,
   "id": "00fcc6aa",
   "metadata": {},
   "outputs": [
    {
     "data": {
      "text/plain": [
       "Country                        0\n",
       "Region                         6\n",
       "HappinessRank                  0\n",
       "HappinessScore                 8\n",
       "StandardError                  0\n",
       "Economy(GDPperCapita)          0\n",
       "Family                         0\n",
       "Health(LifeExpectancy)         0\n",
       "Freedom                        0\n",
       "Trust(GovernmentCorruption)    8\n",
       "Generosity                     0\n",
       "DystopiaResidual               0\n",
       "dtype: int64"
      ]
     },
     "execution_count": 3,
     "metadata": {},
     "output_type": "execute_result"
    }
   ],
   "source": [
    "df.isnull().sum()"
   ]
  },
  {
   "cell_type": "code",
   "execution_count": 5,
   "id": "fd1d0388",
   "metadata": {},
   "outputs": [],
   "source": [
    "Hapsc_mean=df.HappinessScore.mean()"
   ]
  },
  {
   "cell_type": "code",
   "execution_count": 6,
   "id": "f951561b",
   "metadata": {},
   "outputs": [
    {
     "name": "stdout",
     "output_type": "stream",
     "text": [
      "mean of Happiness Score :  5.371026666666666\n"
     ]
    }
   ],
   "source": [
    "print(\"mean of Happiness Score : \", Hapsc_mean)"
   ]
  },
  {
   "cell_type": "code",
   "execution_count": 7,
   "id": "ce147cc6",
   "metadata": {},
   "outputs": [],
   "source": [
    "df.HappinessScore.fillna(Hapsc_mean, inplace=True)"
   ]
  },
  {
   "cell_type": "code",
   "execution_count": 11,
   "id": "a80d9ed7",
   "metadata": {},
   "outputs": [],
   "source": [
    "Trust_mean=df['Trust(GovernmentCorruption)'].mean()"
   ]
  },
  {
   "cell_type": "code",
   "execution_count": 12,
   "id": "e76246da",
   "metadata": {},
   "outputs": [
    {
     "name": "stdout",
     "output_type": "stream",
     "text": [
      "mean of Trust :  0.14402746666666666\n"
     ]
    }
   ],
   "source": [
    "print(\"mean of Trust : \", Trust_mean)"
   ]
  },
  {
   "cell_type": "code",
   "execution_count": 13,
   "id": "f2356887",
   "metadata": {},
   "outputs": [],
   "source": [
    "df['Trust(GovernmentCorruption)'].fillna(Trust_mean, inplace=True)"
   ]
  },
  {
   "cell_type": "code",
   "execution_count": 14,
   "id": "c94db71b",
   "metadata": {},
   "outputs": [
    {
     "data": {
      "text/plain": [
       "Country                        0\n",
       "Region                         6\n",
       "HappinessRank                  0\n",
       "HappinessScore                 0\n",
       "StandardError                  0\n",
       "Economy(GDPperCapita)          0\n",
       "Family                         0\n",
       "Health(LifeExpectancy)         0\n",
       "Freedom                        0\n",
       "Trust(GovernmentCorruption)    0\n",
       "Generosity                     0\n",
       "DystopiaResidual               0\n",
       "dtype: int64"
      ]
     },
     "execution_count": 14,
     "metadata": {},
     "output_type": "execute_result"
    }
   ],
   "source": [
    "df.isnull().sum()"
   ]
  },
  {
   "cell_type": "code",
   "execution_count": 15,
   "id": "71763e36",
   "metadata": {},
   "outputs": [
    {
     "data": {
      "text/plain": [
       "array(['Western Europe', 'North America', 'Australia and New Zealand',\n",
       "       'Middle East and Northern Africa', 'Latin America and Caribbean',\n",
       "       'Southeastern Asia', 'Central and Eastern Europe', 'Eastern Asia',\n",
       "       nan, 'Sub-Saharan Africa', 'Southern Asia'], dtype=object)"
      ]
     },
     "execution_count": 15,
     "metadata": {},
     "output_type": "execute_result"
    }
   ],
   "source": [
    "  df['Region'].unique()"
   ]
  },
  {
   "cell_type": "code",
   "execution_count": 16,
   "id": "062dfb29",
   "metadata": {},
   "outputs": [],
   "source": [
    "Reg_mode=df.Region.mode()[0]"
   ]
  },
  {
   "cell_type": "code",
   "execution_count": 17,
   "id": "5990d18a",
   "metadata": {},
   "outputs": [
    {
     "name": "stdout",
     "output_type": "stream",
     "text": [
      "Mode for Region :  Sub-Saharan Africa\n"
     ]
    }
   ],
   "source": [
    "print(\"Mode for Region : \", Reg_mode)"
   ]
  },
  {
   "cell_type": "code",
   "execution_count": 19,
   "id": "39a61430",
   "metadata": {},
   "outputs": [],
   "source": [
    "df.Region.fillna(Reg_mode, inplace=True)"
   ]
  },
  {
   "cell_type": "code",
   "execution_count": 20,
   "id": "f3e7b2d1",
   "metadata": {},
   "outputs": [
    {
     "data": {
      "text/plain": [
       "Country                        0\n",
       "Region                         0\n",
       "HappinessRank                  0\n",
       "HappinessScore                 0\n",
       "StandardError                  0\n",
       "Economy(GDPperCapita)          0\n",
       "Family                         0\n",
       "Health(LifeExpectancy)         0\n",
       "Freedom                        0\n",
       "Trust(GovernmentCorruption)    0\n",
       "Generosity                     0\n",
       "DystopiaResidual               0\n",
       "dtype: int64"
      ]
     },
     "execution_count": 20,
     "metadata": {},
     "output_type": "execute_result"
    }
   ],
   "source": [
    "df.isnull().sum()"
   ]
  },
  {
   "cell_type": "code",
   "execution_count": null,
   "id": "4105a194",
   "metadata": {},
   "outputs": [],
   "source": []
  }
 ],
 "metadata": {
  "kernelspec": {
   "display_name": "Python 3 (ipykernel)",
   "language": "python",
   "name": "python3"
  },
  "language_info": {
   "codemirror_mode": {
    "name": "ipython",
    "version": 3
   },
   "file_extension": ".py",
   "mimetype": "text/x-python",
   "name": "python",
   "nbconvert_exporter": "python",
   "pygments_lexer": "ipython3",
   "version": "3.9.12"
  }
 },
 "nbformat": 4,
 "nbformat_minor": 5
}
